{
 "cells": [
  {
   "cell_type": "markdown",
   "id": "1e081768",
   "metadata": {},
   "source": [
    "# Contexte du projet – Projet 10\n",
    "___\n",
    "**Objectif** : développer une première version d’un système de recommandation de contenu pour l’application My Content.\n",
    "___\n",
    "La startup My Content souhaite encourager la lecture en recommandant des articles pertinents à ses utilisateurs. Dans cette phase de MVP (Minimum Viable Product), l’objectif est de mettre en place :\n",
    "\n",
    "un système de recommandation efficace (filtrage collaboratif et/ou basé contenu),\n",
    "\n",
    "une application simple permettant d’afficher les recommandations,\n",
    "\n",
    "une architecture déployable sur Azure via une fonction serverless.\n",
    "\n",
    "Les données utilisées sont publiques et simulées, représentant des interactions entre des utilisateurs et des articles."
   ]
  },
  {
   "cell_type": "code",
   "execution_count": null,
   "id": "1d58f78d",
   "metadata": {},
   "outputs": [],
   "source": [
    "############################\n",
    "# Importation des librairies\n",
    "############################\n",
    "\n",
    "# Manipulation de données\n",
    "import pandas as pd\n",
    "import numpy as np\n",
    "\n",
    "# Visualisation\n",
    "import matplotlib.pyplot as plt\n",
    "import seaborn as sns\n",
    "\n",
    "# Système de fichiers\n",
    "import os\n",
    "os.environ[\"OPENBLAS_NUM_THREADS\"] = \"1\"\n",
    "os.environ[\"OMP_NUM_THREADS\"]      = \"1\"\n",
    "\n",
    "# Affichage dans Jupyter\n",
    "from IPython.display import display\n",
    "\n",
    "# fichier des fonctions\n",
    "import fonctions as fc\n",
    "from fonctions import split_temporal, train_test_svd_temporal\n"
   ]
  },
  {
   "cell_type": "code",
   "execution_count": null,
   "id": "50288a67",
   "metadata": {},
   "outputs": [],
   "source": [
    "# Hyper-paramètres\n",
    "CUT_OFF          = None            # None pour quantile 0.8 automatique\n",
    "PERCENTILE_Q     = 0.8             # utilisé si CUT_OFF=None\n",
    "K_RECS           = 5               # Top-K recommandations\n",
    "ALPHA_HYBRIDE    = 0.7             # mix content/collab dans hybrid"
   ]
  },
  {
   "cell_type": "code",
   "execution_count": null,
   "id": "cb0f3c70",
   "metadata": {},
   "outputs": [],
   "source": [
    "# Définir le chemin vers les données\n",
    "DATA_PATH = \"../data/\"\n",
    "\n",
    "# Chargement des fichiers CSV\n",
    "articles = pd.read_csv(os.path.join(DATA_PATH, \"articles_metadata.csv\"))\n",
    "clicks_sample = pd.read_csv(os.path.join(DATA_PATH, \"clicks_sample.csv\"))"
   ]
  },
  {
   "cell_type": "markdown",
   "id": "f2221d76",
   "metadata": {},
   "source": [
    "## Explorations des données"
   ]
  },
  {
   "cell_type": "code",
   "execution_count": null,
   "id": "8e792ba7",
   "metadata": {},
   "outputs": [],
   "source": [
    "# Aperçu des 5 premières lignes\n",
    "print(\"Aperçu des articles :\")\n",
    "display(articles.head())\n",
    "\n",
    "print(\"\\nAperçu des interactions (clicks_sample) :\")\n",
    "display(clicks_sample.head())"
   ]
  },
  {
   "cell_type": "code",
   "execution_count": null,
   "id": "7234d867",
   "metadata": {},
   "outputs": [],
   "source": [
    "# Dimension des datasets\n",
    "print(f\"Articles : {articles.shape[0]} lignes, {articles.shape[1]} colonnes\")\n",
    "print(f\"Clicks sample : {clicks_sample.shape[0]} lignes, {clicks_sample.shape[1]} colonnes\")"
   ]
  },
  {
   "cell_type": "code",
   "execution_count": null,
   "id": "1ca73a7d",
   "metadata": {},
   "outputs": [],
   "source": [
    "# Liste des colonnes disponibles\n",
    "print(\"Colonnes dans articles:\")\n",
    "print(articles.columns.tolist())\n",
    "\n",
    "print(\"\\nColonnes dans clicks_sample:\")\n",
    "print(clicks_sample.columns.tolist())"
   ]
  },
  {
   "cell_type": "code",
   "execution_count": null,
   "id": "410f304d",
   "metadata": {},
   "outputs": [],
   "source": [
    "# Types de données\n",
    "print(\"Types de données - Articles :\")\n",
    "print(articles.dtypes)\n",
    "\n",
    "print(\"\\nTypes de données - Clicks sample :\")\n",
    "print(clicks_sample.dtypes)"
   ]
  },
  {
   "cell_type": "code",
   "execution_count": null,
   "id": "c4326ae9",
   "metadata": {},
   "outputs": [],
   "source": [
    "# Vérification des valeurs manquantes\n",
    "print(\"Valeurs manquantes - Articles :\")\n",
    "display(articles.isnull().sum())\n",
    "\n",
    "print(\"\\nValeurs manquantes - Clicks sample :\")\n",
    "display(clicks_sample.isnull().sum())"
   ]
  },
  {
   "cell_type": "code",
   "execution_count": null,
   "id": "fd0588ae",
   "metadata": {},
   "outputs": [],
   "source": [
    "# Statistiques descriptives\n",
    "print(\"Statistiques - Articles :\")\n",
    "display(articles.describe())\n",
    "\n",
    "print(\"\\nStatistiques - Clicks sample :\")\n",
    "display(clicks_sample.describe())"
   ]
  },
  {
   "cell_type": "markdown",
   "id": "8f918a12",
   "metadata": {},
   "source": [
    "## Analyse Univarié\n",
    "- Objectif : décrire les variables indépendamment"
   ]
  },
  {
   "cell_type": "markdown",
   "id": "bd609d7b",
   "metadata": {},
   "source": [
    "___\n",
    "### articles_metadata.csv\n",
    "___"
   ]
  },
  {
   "cell_type": "code",
   "execution_count": null,
   "id": "1b22507d",
   "metadata": {},
   "outputs": [],
   "source": [
    "# Nombre d’articles par \"category_id\"\n",
    "plt.figure(figsize=(10, 5))\n",
    "sns.countplot(data=articles, x=\"category_id\", order=articles[\"category_id\"].value_counts().index)\n",
    "plt.title(\"Nombre d'articles par catégorie\")\n",
    "plt.xlabel(\"Catégorie\")\n",
    "plt.ylabel(\"Nombre d'articles\")\n",
    "plt.xticks(rotation=45) # reste ilisible\n",
    "plt.tight_layout()\n",
    "plt.show()"
   ]
  },
  {
   "cell_type": "code",
   "execution_count": null,
   "id": "5b9f9922",
   "metadata": {},
   "outputs": [],
   "source": [
    "# Nombre d’articles par \"publisher_id\"\n",
    "plt.figure(figsize=(10, 5))\n",
    "sns.countplot(data=articles, x=\"publisher_id\", order=articles[\"publisher_id\"].value_counts().index)\n",
    "plt.title(\"Nombre d'articles par éditeur\")\n",
    "plt.xlabel(\"Éditeur (Publisher ID)\")\n",
    "plt.ylabel(\"Nombre d'articles\")\n",
    "plt.xticks(rotation=45)\n",
    "plt.tight_layout()\n",
    "plt.show()"
   ]
  },
  {
   "cell_type": "code",
   "execution_count": null,
   "id": "d7f54951",
   "metadata": {},
   "outputs": [],
   "source": [
    "# Distribution du nombre de mots par article (words_count)\n",
    "plt.figure(figsize=(8, 5))\n",
    "sns.histplot(articles[\"words_count\"], bins=30, kde=True)\n",
    "plt.title(\"Distribution du nombre de mots par article\")\n",
    "plt.xlabel(\"Nombre de mots\")\n",
    "plt.ylabel(\"Nombre d'articles\")\n",
    "plt.tight_layout()\n",
    "plt.show()"
   ]
  },
  {
   "cell_type": "markdown",
   "id": "84901707",
   "metadata": {},
   "source": [
    "___\n",
    "### clicks_sample.csv\n",
    "___"
   ]
  },
  {
   "cell_type": "code",
   "execution_count": null,
   "id": "c96cfead",
   "metadata": {},
   "outputs": [],
   "source": [
    "# Nombre de clics par utilisateur \"user_id\"\n",
    "user_click_counts = clicks_sample[\"user_id\"].value_counts()\n",
    "\n",
    "plt.figure(figsize=(8, 5))\n",
    "sns.histplot(user_click_counts, bins=30, kde=False)\n",
    "plt.title(\"Nombre de clics par utilisateur\")\n",
    "plt.xlabel(\"Nombre de clics\")\n",
    "plt.ylabel(\"Nombre d’utilisateurs\")\n",
    "plt.tight_layout()\n",
    "plt.show()"
   ]
  },
  {
   "cell_type": "code",
   "execution_count": null,
   "id": "2dfb0af9",
   "metadata": {},
   "outputs": [],
   "source": [
    "# Nombre de clics par article \"click_article_id\"\n",
    "article_click_counts = clicks_sample[\"click_article_id\"].value_counts()\n",
    "\n",
    "plt.figure(figsize=(8, 5))\n",
    "sns.histplot(article_click_counts, bins=30, kde=False)\n",
    "plt.title(\"Nombre de clics par article\")\n",
    "plt.xlabel(\"Nombre de clics\")\n",
    "plt.ylabel(\"Nombre d’articles\")\n",
    "plt.tight_layout()\n",
    "plt.show()"
   ]
  },
  {
   "cell_type": "code",
   "execution_count": null,
   "id": "8cc6bd84",
   "metadata": {},
   "outputs": [],
   "source": [
    "# Articles les plus populaires (Top 10)\n",
    "top_articles = article_click_counts.head(10)\n",
    "top_articles = top_articles.reset_index()\n",
    "top_articles.columns = [\"article_id\", \"nb_clicks\"]\n",
    "\n",
    "plt.figure(figsize=(10, 5))\n",
    "sns.barplot(data=top_articles, x=\"article_id\", y=\"nb_clicks\")\n",
    "plt.title(\"Top 10 des articles les plus cliqués\")\n",
    "plt.xlabel(\"ID Article\")\n",
    "plt.ylabel(\"Nombre de clics\")\n",
    "plt.tight_layout()\n",
    "plt.show()"
   ]
  },
  {
   "cell_type": "markdown",
   "id": "ac6b7086",
   "metadata": {},
   "source": [
    "## Analyse multivarié\n",
    "- Objectif : croiser les variables"
   ]
  },
  {
   "cell_type": "markdown",
   "id": "a2303839",
   "metadata": {},
   "source": [
    "___\n",
    "### Fusion des deux jeux de données\n",
    "___"
   ]
  },
  {
   "cell_type": "code",
   "execution_count": null,
   "id": "c53cd6b7",
   "metadata": {},
   "outputs": [],
   "source": [
    "df = clicks_sample.merge(articles, left_on=\"click_article_id\", right_on=\"article_id\", how=\"left\")\n",
    "print(\"Dimensions du DataFrame fusionné :\", df.shape)\n",
    "display(df.head(20))"
   ]
  },
  {
   "cell_type": "code",
   "execution_count": null,
   "id": "d7151c6b",
   "metadata": {},
   "outputs": [],
   "source": [
    "df.info()"
   ]
  },
  {
   "cell_type": "code",
   "execution_count": null,
   "id": "180476c2",
   "metadata": {},
   "outputs": [],
   "source": [
    "# Nombre moyen de clics par catégorie d’article\n",
    "cat_clicks = df.groupby(\"category_id\")[\"click_article_id\"].count().sort_values(ascending=False)\n",
    "\n",
    "plt.figure(figsize=(10, 5))\n",
    "sns.barplot(x=cat_clicks.index.astype(str), y=cat_clicks.values)\n",
    "plt.title(\"Nombre de clics par catégorie d'article\")\n",
    "plt.xlabel(\"Catégorie\")\n",
    "plt.ylabel(\"Nombre de clics\")\n",
    "plt.xticks(rotation=90)\n",
    "plt.tight_layout()\n",
    "plt.show()"
   ]
  },
  {
   "cell_type": "code",
   "execution_count": null,
   "id": "274e496b",
   "metadata": {},
   "outputs": [],
   "source": [
    "# Nombre moyen de clics par éditeur \"publisher_id\"\n",
    "pub_clicks = df.groupby(\"publisher_id\")[\"click_article_id\"].count().sort_values(ascending=False)\n",
    "\n",
    "plt.figure(figsize=(10, 5))\n",
    "sns.barplot(x=pub_clicks.index.astype(str), y=pub_clicks.values)\n",
    "plt.title(\"Nombre de clics par éditeur\")\n",
    "plt.xlabel(\"Publisher ID\")\n",
    "plt.ylabel(\"Nombre de clics\")\n",
    "plt.tight_layout()\n",
    "plt.show()"
   ]
  },
  {
   "cell_type": "code",
   "execution_count": null,
   "id": "76c6627d",
   "metadata": {},
   "outputs": [],
   "source": [
    "# Moyenne des mots par article selon la catégorie\n",
    "words_per_category = df.groupby(\"category_id\")[\"words_count\"].mean().sort_values(ascending=False)\n",
    "\n",
    "plt.figure(figsize=(10, 5))\n",
    "sns.barplot(x=words_per_category.index.astype(str), y=words_per_category.values)\n",
    "plt.title(\"Nombre moyen de mots par catégorie\")\n",
    "plt.xlabel(\"Catégorie\")\n",
    "plt.ylabel(\"Mots moyens par article\")\n",
    "plt.xticks(rotation=90)\n",
    "plt.tight_layout()\n",
    "plt.show()"
   ]
  },
  {
   "cell_type": "code",
   "execution_count": null,
   "id": "ed34b8b5",
   "metadata": {},
   "outputs": [],
   "source": [
    "# Création d’une mini-matrice (échantillon de 50x50) pour visualisation\n",
    "pivot = df.pivot_table(index=\"user_id\", columns=\"click_article_id\", aggfunc=\"size\", fill_value=0)\n",
    "\n",
    "plt.figure(figsize=(12, 8))\n",
    "sns.heatmap(pivot.iloc[:50, :50], cmap=\"viridis\")\n",
    "plt.title(\"Interactions User-Article (échantillon 50x50)\")\n",
    "plt.xlabel(\"Article ID\")\n",
    "plt.ylabel(\"User ID\")\n",
    "plt.tight_layout()\n",
    "plt.show()"
   ]
  },
  {
   "cell_type": "code",
   "execution_count": null,
   "id": "31fe77c8",
   "metadata": {},
   "outputs": [],
   "source": [
    "# Nombre d’utilisateurs uniques par article\n",
    "user_per_article = df.groupby(\"click_article_id\")[\"user_id\"].nunique()\n",
    "\n",
    "plt.figure(figsize=(8, 5))\n",
    "sns.histplot(user_per_article, bins=30, kde=False)\n",
    "plt.title(\"Nombre d’utilisateurs uniques par article\")\n",
    "plt.xlabel(\"Utilisateurs\")\n",
    "plt.ylabel(\"Articles\")\n",
    "plt.tight_layout()\n",
    "plt.show()"
   ]
  },
  {
   "cell_type": "code",
   "execution_count": null,
   "id": "8925deda",
   "metadata": {},
   "outputs": [],
   "source": [
    "# Nombre d’articles uniques par utilisateur\n",
    "articles_per_user = df.groupby(\"user_id\")[\"click_article_id\"].nunique()\n",
    "\n",
    "plt.figure(figsize=(8, 5))\n",
    "sns.histplot(articles_per_user, bins=30, kde=False)\n",
    "plt.title(\"Nombre d’articles uniques par utilisateur\")\n",
    "plt.xlabel(\"Articles\")\n",
    "plt.ylabel(\"Utilisateurs\")\n",
    "plt.tight_layout()\n",
    "plt.show()"
   ]
  },
  {
   "cell_type": "code",
   "execution_count": null,
   "id": "69e88ae1",
   "metadata": {},
   "outputs": [],
   "source": [
    "# Corrélations possibles entre words_count, category_id, publisher_id\n",
    "plt.figure(figsize=(6, 5))\n",
    "sns.boxplot(data=df, x=\"category_id\", y=\"words_count\")\n",
    "plt.title(\"Répartition des words_count par catégorie\")\n",
    "plt.xlabel(\"Catégorie\")\n",
    "plt.ylabel(\"Nombre de mots\")\n",
    "plt.xticks(rotation=90)\n",
    "plt.tight_layout()\n",
    "plt.show()"
   ]
  },
  {
   "cell_type": "code",
   "execution_count": null,
   "id": "8421db9d",
   "metadata": {},
   "outputs": [],
   "source": [
    "# ─── Conversion des timestamps (ms) ────────────────────\n",
    "df[\"created_at\"]    = pd.to_datetime(df[\"created_at_ts\"], unit=\"ms\")\n",
    "df[\"click_time\"]    = pd.to_datetime(df[\"click_timestamp\"], unit=\"ms\")\n",
    "df[\"session_start\"] = pd.to_datetime(df[\"session_start\"],   unit=\"ms\")"
   ]
  },
  {
   "cell_type": "code",
   "execution_count": null,
   "id": "1e54118e",
   "metadata": {},
   "outputs": [],
   "source": [
    "# ─── Choix du cutoff pour le split temporel ────────────\n",
    "# Vous pouvez fixer une date précise :\n",
    "# cutoff = pd.Timestamp(\"2017-10-01\")\n",
    "# — ou laisser None pour prendre automatiquement le 80e percentile\n",
    "cutoff = None"
   ]
  },
  {
   "cell_type": "markdown",
   "id": "a1bce266",
   "metadata": {},
   "source": [
    "## Modélisation et recommandations"
   ]
  },
  {
   "cell_type": "markdown",
   "id": "9241b850",
   "metadata": {},
   "source": [
    "### user-based content-based (Recommandations user_id)"
   ]
  },
  {
   "cell_type": "code",
   "execution_count": null,
   "id": "e48c205f",
   "metadata": {},
   "outputs": [],
   "source": [
    "# Liste des colonnes disponibles\n",
    "print(df.columns.tolist())"
   ]
  },
  {
   "cell_type": "markdown",
   "id": "8d10f4dd",
   "metadata": {},
   "source": [
    "#### CountVectorizer"
   ]
  },
  {
   "cell_type": "code",
   "execution_count": null,
   "id": "48e7f443",
   "metadata": {},
   "outputs": [],
   "source": [
    "# Créer une \"signature textuelle\" pour chaque article\n",
    "df[\"article_features\"] = (\n",
    "    \"cat_\" + df[\"category_id\"].astype(str) + \" \" +\n",
    "    \"pub_\" + df[\"publisher_id\"].astype(str)\n",
    ")\n",
    "\n",
    "# Ne garder qu’un seul vecteur par article\n",
    "df_articles = df.drop_duplicates(subset=\"article_id\")[[\"article_id\", \"article_features\"]].copy()"
   ]
  },
  {
   "cell_type": "code",
   "execution_count": null,
   "id": "5244d5cd",
   "metadata": {},
   "outputs": [],
   "source": [
    "# Vectorisation avec CountVectorizer\n",
    "from sklearn.feature_extraction.text import CountVectorizer\n",
    "from sklearn.metrics.pairwise import cosine_similarity\n",
    "\n",
    "vectorizer = CountVectorizer()\n",
    "X = vectorizer.fit_transform(df_articles[\"article_features\"])\n",
    "\n",
    "# Matrice de similarité cosinus (articles x articles)\n",
    "similarity_matrix = cosine_similarity(X)"
   ]
  },
  {
   "cell_type": "code",
   "execution_count": null,
   "id": "05e16a59",
   "metadata": {},
   "outputs": [],
   "source": [
    "# Construction de la matrice de similarité\n",
    "df_articles, similarity_matrix = fc.construire_matrice_similarite(df)\n",
    "\n",
    "# Test d'une recommandation\n",
    "user_test = df[\"user_id\"].sample(1).iloc[0]\n",
    "recommandations = fc.recommender_content_based(user_test, df, df_articles, similarity_matrix)\n",
    "print(f\"Recommandations pour l'utilisateur {user_test} : {recommandations}\")"
   ]
  },
  {
   "cell_type": "markdown",
   "id": "9df8b493",
   "metadata": {},
   "source": [
    "#### Librairie Surprise avec SVD\n",
    "___\n",
    "**Objectif** :\n",
    "- Modéliser les interactions user_id / click_article_id comme des notes implicites (clic = 1)\n",
    "- Entraîner un modèle avec la librairie surprise\n",
    "- Générer les recommandations"
   ]
  },
  {
   "cell_type": "code",
   "execution_count": null,
   "id": "36c71b9b",
   "metadata": {},
   "outputs": [],
   "source": [
    "# Préparer les données\n",
    "modele_svd, trainset, testset, metrics = train_test_svd_temporal(\n",
    "    df, ts_col=\"created_at_ts\", cutoff=CUT_OFF\n",
    ")\n",
    "print(f\"SVD temporel → RMSE: {metrics['rmse']:.4f}  MAE: {metrics['mae']:.4f}\")\n",
    "\n",
    "# Tester la recommandation\n",
    "user_test = df[\"user_id\"].sample(1).iloc[0]\n",
    "recommandations = fc.recommender_surprise(user_test, modele_svd, df)\n",
    "print(f\"Recommandations (Surprise SVD) pour l'utilisateur {user_test} : {recommandations}\")"
   ]
  },
  {
   "cell_type": "markdown",
   "id": "8e629501",
   "metadata": {},
   "source": [
    "#### Librairie Implicit avec ALS\n",
    "___\n",
    "**Objectif** :\n",
    "- Modéliser les interactions utilisateur ↔ article via une matrice creuse CSR\n",
    "- Utiliser les clics comme feedback implicites (score = 1 ou pondéré)\n",
    "- Entraîner un modèle AlternatingLeastSquares (implicit.als)\n",
    "- Générer les recommandations personnalisées par utilisateur"
   ]
  },
  {
   "cell_type": "code",
   "execution_count": null,
   "id": "5dd1d2d8",
   "metadata": {},
   "outputs": [],
   "source": [
    "# ─── ALS – leave-one-out & évaluation ───────────────────────────────\n",
    "from fonctions import split_leave_one_out\n",
    "import numpy as np\n",
    "from scipy.sparse import csr_matrix\n",
    "from implicit.evaluation import precision_at_k, mean_average_precision_at_k, ndcg_at_k\n",
    "\n",
    "# 0) Leave-one-out split\n",
    "df_train, df_test = split_leave_one_out(df, ts_col=\"created_at_ts\")\n",
    "print(f\"Train interactions : {len(df_train)} — Test interactions : {len(df_test)}\")\n",
    "\n",
    "# 1) Score implicite\n",
    "df_train[\"popularity_indicator\"] = 1\n",
    "df_test [\"popularity_indicator\"] = 1\n",
    "\n",
    "# 2) CSR sur df_train\n",
    "csr_train, user_map, item_map, _ = fc.preparer_matrices_implicit(df_train)\n",
    "\n",
    "# 3) CSR sur df_test (users/items vus en train)\n",
    "df_test_filt = df_test[\n",
    "    df_test.user_id.isin(user_map) & df_test.click_article_id.isin(item_map)\n",
    "].copy()\n",
    "df_test_filt[\"user_idx\"] = df_test_filt[\"user_id\"].map(user_map)\n",
    "df_test_filt[\"item_idx\"] = df_test_filt[\"click_article_id\"].map(item_map)\n",
    "csr_test = csr_matrix(\n",
    "    (df_test_filt[\"popularity_indicator\"],\n",
    "    (df_test_filt[\"user_idx\"], df_test_filt[\"item_idx\"])),\n",
    "    shape=csr_train.shape\n",
    ")\n",
    "\n",
    "# 4) Entraînement ALS\n",
    "als_model = fc.entrainer_modele_als(csr_train)\n",
    "\n",
    "# 5) Filtrer les utilisateurs “valides” pour éviter ZeroDivisionError\n",
    "train_users = np.unique(csr_train.nonzero()[0])\n",
    "test_users  = np.unique(csr_test.nonzero()[0])\n",
    "valid_users = np.intersect1d(train_users, test_users)\n",
    "csr_train_eval = csr_train[valid_users, :].tocsr()\n",
    "csr_test_eval  = csr_test[valid_users, :].tocsr()\n",
    "\n",
    "# 6) Évaluation (automatic → fallback manuel)\n",
    "try:\n",
    "    prec  = precision_at_k   (als_model, csr_train_eval, csr_test_eval, K=K_RECS, num_threads=1)\n",
    "    map5  = mean_average_precision_at_k(als_model, csr_train_eval, csr_test_eval, K=K_RECS, num_threads=1)\n",
    "    ndcg5 = ndcg_at_k        (als_model, csr_train_eval, csr_test_eval, K=K_RECS, num_threads=1)\n",
    "    print(f\"ALS leave-one-out → Precision@{K_RECS}: {prec:.4f}  MAP@{K_RECS}: {map5:.4f}  NDCG@{K_RECS}: {ndcg5:.4f}\")\n",
    "except ZeroDivisionError:\n",
    "    print(\"⚠️ implicit.evaluation a échoué, on utilise l’évaluation manuelle\")\n",
    "    fc.evaluer_modele_als_manuel(\n",
    "        model=als_model,\n",
    "        df_train=df_train,\n",
    "        df_test=df_test,\n",
    "        user_map=user_map,\n",
    "        item_map=item_map,\n",
    "        csr_train=csr_train,\n",
    "        k=K_RECS\n",
    "    )\n",
    "\n",
    "# 7) (Optionnel) Top-N recommandations sur df_train\n",
    "user_test = df_train[\"user_id\"].sample(1).iloc[0]\n",
    "recs = fc.recommander_implicit(user_test, df_train, als_model, user_map, item_map, csr_train)\n",
    "print(f\"Recommandations ALS (leave-one-out) pour {user_test} : {recs}\")"
   ]
  },
  {
   "cell_type": "code",
   "execution_count": null,
   "id": "68cc8eb5",
   "metadata": {},
   "outputs": [],
   "source": [
    "resultats_comparaison = pd.DataFrame([\n",
    "    {\"Modèle\": \"Content-Based\", \"Type\": \"Filtrage contenu\", \"Métrique\": \"Precision@5\", \"Score\": \"-\"},\n",
    "    {\"Modèle\": \"Content-Based\", \"Type\": \"Filtrage contenu\", \"Métrique\": \"MAP@5\", \"Score\": \"-\"},\n",
    "    {\"Modèle\": \"Content-Based\", \"Type\": \"Filtrage contenu\", \"Métrique\": \"NDCG@5\", \"Score\": \"-\"},\n",
    "\n",
    "    {\"Modèle\": \"SVD (Surprise)\", \"Type\": \"Collaboratif\", \"Métrique\": \"RMSE\", \"Score\": 0.0465},\n",
    "    {\"Modèle\": \"SVD (Surprise)\", \"Type\": \"Collaboratif\", \"Métrique\": \"MAE\", \"Score\": 0.0234},\n",
    "\n",
    "    {\"Modèle\": \"ALS (Implicit)\", \"Type\": \"Collaboratif\", \"Métrique\": \"Precision@5\", \"Score\": 0.0086},\n",
    "    {\"Modèle\": \"ALS (Implicit)\", \"Type\": \"Collaboratif\", \"Métrique\": \"MAP@5\", \"Score\": 0.0260},\n",
    "    {\"Modèle\": \"ALS (Implicit)\", \"Type\": \"Collaboratif\", \"Métrique\": \"NDCG@5\", \"Score\": 0.0284},\n",
    "])\n",
    "\n",
    "display(resultats_comparaison)"
   ]
  },
  {
   "cell_type": "markdown",
   "id": "3a384837",
   "metadata": {},
   "source": [
    "**Analyse comparative des modèles de recommandation**\n",
    "\n",
    "- Content-Based\n",
    "Ce modèle repose uniquement sur les métadonnées des articles. Il n’utilise pas l’historique utilisateur, ce qui rend l’évaluation quantitative difficile ici (aucune métrique calculée directement).\n",
    "→ Avantage : utile en cold-start, pour les nouveaux utilisateurs ou articles.\n",
    "\n",
    "- SVD (Surprise)\n",
    "Le modèle SVD obtient les meilleurs scores d'erreur absolue (RMSE = 0.0465, MAE = 0.0234).\n",
    "Cela indique une bonne capacité à approximer les \"notes implicites\" (clics = 1) sur des articles non vus.\n",
    "→ Il est performant sur des interactions bien représentées et faciles à factoriser.\n",
    "\n",
    "- ALS (Implicit)\n",
    "Le modèle ALS donne des scores faibles sur Precision@5, MAP@5 et NDCG@5.    \n",
    "Cela s’explique par :\n",
    "\n",
    "    * un dataset très petit (1 883 lignes),\n",
    "\n",
    "    * des clics binaires peu informatifs (pas de pondération),\n",
    "\n",
    "    * une faible densité des interactions.\n",
    "    → Malgré cela, ALS reste utile sur des jeux massifs ou en production sur du long terme."
   ]
  },
  {
   "cell_type": "code",
   "execution_count": null,
   "id": "863b8564",
   "metadata": {},
   "outputs": [],
   "source": [
    "\"\"\"# TEST essai/rendu streamlit\n",
    "\n",
    "import joblib\n",
    "import os\n",
    "\n",
    "# Créer le dossier s'il n'existe pas\n",
    "os.makedirs(\"model\", exist_ok=True)\n",
    "\n",
    "# Sauvegarder le modèle, les mappings et la matrice CSR\n",
    "joblib.dump(als_model, \"model/als_model.pkl\")\n",
    "joblib.dump((user_map, item_map, {v: k for k, v in item_map.items()}), \"model/mappings.pkl\")\n",
    "joblib.dump(csr_train, \"model/csr_train.pkl\")\"\"\""
   ]
  },
  {
   "cell_type": "markdown",
   "id": "64a42ff4",
   "metadata": {},
   "source": [
    "### item-to-item (content_id - articles similaires)"
   ]
  },
  {
   "cell_type": "code",
   "execution_count": null,
   "id": "a7a994d4",
   "metadata": {},
   "outputs": [],
   "source": [
    "# Sélectionnez un article existant\n",
    "article_ref = df_articles[\"article_id\"].iloc[0]\n",
    "print(\"Article de référence :\", article_ref)\n",
    "\n",
    "# Récupérer les 5 plus similaires\n",
    "similaires = fc.recommander_similaire_article(\n",
    "    article_id=article_ref,\n",
    "    df_articles=df_articles,\n",
    "    similarity_matrix=similarity_matrix,\n",
    "    top_n=5\n",
    ")\n",
    "print(f\"Top 5 similaires à l'article {article_ref} :\", similaires)"
   ]
  },
  {
   "cell_type": "code",
   "execution_count": null,
   "id": "fad234bd",
   "metadata": {},
   "outputs": [],
   "source": [
    "for aid in df_articles[\"article_id\"].sample(3, random_state=42):\n",
    "    print(f\"\\n→ Similaires à {aid} :\",\n",
    "        fc.recommander_similaire_article(aid, df_articles, similarity_matrix, top_n=5))"
   ]
  },
  {
   "cell_type": "markdown",
   "id": "c01f4ffb",
   "metadata": {},
   "source": [
    "#### Avec Surprise (SVD)"
   ]
  },
  {
   "cell_type": "code",
   "execution_count": null,
   "id": "7bd9749b",
   "metadata": {},
   "outputs": [],
   "source": [
    "# --- 1. Item–Item “collaboratif” avec SVD ---\n",
    "raw_ids_svd, sim_svd = fc.build_item_similarity_svd(modele_svd, trainset)\n",
    "\n",
    "# Choix d’un article de référence (par ex. le 1er de df_articles)\n",
    "article_ref = df_articles[\"article_id\"].iloc[0]\n",
    "print(\"Article de référence :\", article_ref)\n",
    "\n",
    "svd_neighbors = fc.recommender_latent_item_svd(\n",
    "    article_id=article_ref,\n",
    "    raw_ids=raw_ids_svd,\n",
    "    sim_mat=sim_svd,\n",
    "    top_n=5\n",
    ")\n",
    "print(\"SVD – articles similaires :\", svd_neighbors)"
   ]
  },
  {
   "cell_type": "markdown",
   "id": "364bec19",
   "metadata": {},
   "source": [
    "#### Avec Implicit (ALS)"
   ]
  },
  {
   "cell_type": "code",
   "execution_count": null,
   "id": "094a6a11",
   "metadata": {},
   "outputs": [],
   "source": [
    "ids_als, sim_als = fc.build_item_similarity_als(als_model, item_map)\n",
    "\n",
    "als_neighbors = fc.recommender_latent_item_als(\n",
    "    article_id=article_ref,\n",
    "    ids=ids_als,\n",
    "    sim_mat=sim_als,\n",
    "    top_n=5\n",
    ")\n",
    "print(\"ALS – articles similaires :\", als_neighbors)"
   ]
  },
  {
   "cell_type": "code",
   "execution_count": null,
   "id": "fb5b222c",
   "metadata": {},
   "outputs": [],
   "source": [
    "# 3 exemples au hasard\n",
    "for aid in df_articles[\"article_id\"].sample(3, random_state=42):\n",
    "    voisins = fc.recommender_latent_item_als(\n",
    "        article_id=aid, ids=ids_als, sim_mat=sim_als, top_n=5\n",
    "    )\n",
    "    print(f\"Article {aid} → similaires ALS : {voisins}\")"
   ]
  },
  {
   "cell_type": "code",
   "execution_count": null,
   "id": "21341b5f",
   "metadata": {},
   "outputs": [],
   "source": [
    "for aid in [article_ref, df_articles[\"article_id\"].sample(2, random_state=1).iloc[1]]:\n",
    "    cb = fc.recommander_similaire_article(aid, df_articles, similarity_matrix, top_n=5)\n",
    "    als = fc.recommender_latent_item_als(aid, ids_als, sim_als, top_n=5)\n",
    "    print(f\"\\nPour l’article {aid} :\\n • Content-based → {cb}\\n • ALS-CF       → {als}\")"
   ]
  },
  {
   "cell_type": "code",
   "execution_count": null,
   "id": "bd91e9ca",
   "metadata": {},
   "outputs": [],
   "source": [
    "# --- 1) Construction de la similarité hybride ---\n",
    "alpha = 0.7  # 70% content-based, 30% collaborative\n",
    "ids_h, sim_h = fc.build_item_similarity_hybrid(\n",
    "    df_articles=df_articles,\n",
    "    content_sim=similarity_matrix,\n",
    "    cf_ids=ids_als,\n",
    "    cf_sim=sim_als,\n",
    "    alpha=alpha\n",
    ")\n",
    "\n",
    "# --- 2) Test pour un article de référence ---\n",
    "article_ref = df_articles[\"article_id\"].iloc[0]\n",
    "hybrid_neighbors = fc.recommender_hybrid_article(\n",
    "    article_id=article_ref,\n",
    "    ids_common=ids_h,\n",
    "    hybrid_sim=sim_h,\n",
    "    top_n=5\n",
    ")\n",
    "\n",
    "print(f\"Top 5 hybrides pour l’article {article_ref} :\", hybrid_neighbors)\n",
    "\n",
    "\n",
    "# --- 3) Comparaison qualitative ---\n",
    "cb   = fc.recommander_similaire_article(article_ref, df_articles, similarity_matrix, top_n=5)\n",
    "als_ = fc.recommender_latent_item_als(article_ref, ids_als, sim_als, top_n=5)\n",
    "print(f\"\\nComparaison pour {article_ref}:\")\n",
    "print(\" • Content-based →\", cb)\n",
    "print(\" • ALS-CF        →\", als_)\n",
    "print(\" • Hybride       →\", hybrid_neighbors)\n"
   ]
  },
  {
   "cell_type": "code",
   "execution_count": null,
   "id": "2242e0ff",
   "metadata": {},
   "outputs": [],
   "source": [
    "# ╔════════════════════════════════════════════════════════════╗\n",
    "# ║  Sauvegarde des artefacts pour la Function Azure           ║\n",
    "# ╚════════════════════════════════════════════════════════════╝\n",
    "from pathlib import Path\n",
    "import joblib, scipy.sparse as sp\n",
    "\n",
    "OUT_DIR = Path(\"azure_function/model\")\n",
    "OUT_DIR.mkdir(parents=True, exist_ok=True)\n",
    "\n",
    "# 1) Modèle collaboratif\n",
    "joblib.dump(als_model, OUT_DIR / \"als_model.pkl\")\n",
    "\n",
    "# 2) Mappings\n",
    "reverse_item_map = {v: k for k, v in item_map.items()}\n",
    "joblib.dump((user_map, item_map, reverse_item_map),\n",
    "            OUT_DIR / \"mappings.pkl\")\n",
    "\n",
    "# 3) Matrice interactions\n",
    "sp.save_npz(OUT_DIR / \"csr_train.npz\", csr_train)\n",
    "\n",
    "# 4) Top‑20 articles populaires (cold‑start & complément)\n",
    "popular_items = (df_train[\"click_article_id\"]\n",
    "                .value_counts()\n",
    "                .head(20)\n",
    "                .index\n",
    "                .tolist())\n",
    "joblib.dump(popular_items, OUT_DIR / \"popular_items.pkl\")\n",
    "\n",
    "print(\"✅  Artefacts enregistrés dans :\", OUT_DIR.resolve())"
   ]
  },
  {
   "cell_type": "markdown",
   "id": "45c99432",
   "metadata": {},
   "source": [
    "À quoi sert chaque fichier ?\n",
    "\n",
    "- als_model.pkl : le « cerveau » du moteur de reco.\n",
    "\n",
    "- mappings.pkl : dictionnaires de traduction user_id⇆index, item_id⇆index.\n",
    "\n",
    "- csr_train.npz : permet de filtrer les articles déjà lus lors de la recommandation.\n",
    "\n",
    "- popular_items.pkl (facultatif) : suggestions de repli pour un nouvel utilisateur."
   ]
  },
  {
   "cell_type": "code",
   "execution_count": null,
   "id": "262482fc",
   "metadata": {},
   "outputs": [],
   "source": [
    "# Test de rechargement rapide – garantit toujours 5 recommandations\n",
    "import joblib, scipy.sparse as sp\n",
    "from fonctions import recommander_implicit\n",
    "\n",
    "# Chargement des artefacts\n",
    "mdl   = joblib.load(\"azure_function/model/als_model.pkl\")\n",
    "u_map, i_map, _ = joblib.load(\"azure_function/model/mappings.pkl\")\n",
    "mat   = sp.load_npz(\"azure_function/model/csr_train.npz\")\n",
    "popular = joblib.load(\"azure_function/model/popular_items.pkl\")\n",
    "\n",
    "# Choix d'un utilisateur\n",
    "some_user = next(iter(u_map.keys()))\n",
    "\n",
    "# 1) Recommandations ALS “pures”\n",
    "recs = recommander_implicit(some_user, None, mdl, u_map, i_map, mat, top_n=5)\n",
    "\n",
    "# 2) Complément si < 5 → on pioche dans les articles populaires\n",
    "if len(recs) < 5:\n",
    "    recs += [a for a in popular if a not in recs][:5 - len(recs)]\n",
    "\n",
    "print(f\"Reco (5 articles) pour l'utilisateur {some_user} → {recs}\")"
   ]
  },
  {
   "cell_type": "code",
   "execution_count": null,
   "id": "d2b2b86b",
   "metadata": {},
   "outputs": [],
   "source": [
    "import azure.functions, joblib, implicit, scipy, numpy, pandas\n",
    "print(\"Imports OK\")"
   ]
  },
  {
   "cell_type": "markdown",
   "id": "b3a3b2c3",
   "metadata": {},
   "source": []
  }
 ],
 "metadata": {
  "kernelspec": {
   "display_name": ".venv10",
   "language": "python",
   "name": "python3"
  },
  "language_info": {
   "codemirror_mode": {
    "name": "ipython",
    "version": 3
   },
   "file_extension": ".py",
   "mimetype": "text/x-python",
   "name": "python",
   "nbconvert_exporter": "python",
   "pygments_lexer": "ipython3",
   "version": "3.12.10"
  }
 },
 "nbformat": 4,
 "nbformat_minor": 5
}
